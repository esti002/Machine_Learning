{
 "cells": [
  {
   "cell_type": "code",
   "execution_count": 1,
   "metadata": {},
   "outputs": [],
   "source": [
    "import pandas as pd\n",
    "import numpy as np\n",
    "import matplotlib.pyplot as plt\n",
    "import seaborn as sns\n",
    "from sklearn.preprocessing import MinMaxScaler"
   ]
  },
  {
   "cell_type": "code",
   "execution_count": 2,
   "metadata": {},
   "outputs": [],
   "source": [
    "data = pd.read_csv(\"HouseData.csv\")"
   ]
  },
  {
   "cell_type": "code",
   "execution_count": 3,
   "metadata": {},
   "outputs": [
    {
     "data": {
      "text/html": [
       "<div>\n",
       "<style scoped>\n",
       "    .dataframe tbody tr th:only-of-type {\n",
       "        vertical-align: middle;\n",
       "    }\n",
       "\n",
       "    .dataframe tbody tr th {\n",
       "        vertical-align: top;\n",
       "    }\n",
       "\n",
       "    .dataframe thead th {\n",
       "        text-align: right;\n",
       "    }\n",
       "</style>\n",
       "<table border=\"1\" class=\"dataframe\">\n",
       "  <thead>\n",
       "    <tr style=\"text-align: right;\">\n",
       "      <th></th>\n",
       "      <th>İlan_Numarası</th>\n",
       "      <th>İlan_Güncelleme_Tarihi</th>\n",
       "      <th>Kategorisi</th>\n",
       "      <th>Brüt_Metrekare</th>\n",
       "      <th>Binanın_Yaşı</th>\n",
       "      <th>Binanın_Kat_Sayısı</th>\n",
       "      <th>Kullanım_Durumu</th>\n",
       "      <th>Yatırıma_Uygunluk</th>\n",
       "      <th>Eşya_Durumu</th>\n",
       "      <th>Banyo_Sayısı</th>\n",
       "      <th>...</th>\n",
       "      <th>Site_İçerisinde</th>\n",
       "      <th>Takas</th>\n",
       "      <th>Fiyat_Durumu</th>\n",
       "      <th>Fiyatı</th>\n",
       "      <th>İl</th>\n",
       "      <th>İlçe</th>\n",
       "      <th>Mahalle</th>\n",
       "      <th>yaka</th>\n",
       "      <th>Yaşam_endeksi</th>\n",
       "      <th>Nüfus</th>\n",
       "    </tr>\n",
       "  </thead>\n",
       "  <tbody>\n",
       "    <tr>\n",
       "      <th>0</th>\n",
       "      <td>2003</td>\n",
       "      <td>02 Şubat 2022</td>\n",
       "      <td>Satılık</td>\n",
       "      <td>190</td>\n",
       "      <td>5-10</td>\n",
       "      <td>20</td>\n",
       "      <td>Kiracı Oturuyor</td>\n",
       "      <td>Bilinmiyor</td>\n",
       "      <td>Yok</td>\n",
       "      <td>2</td>\n",
       "      <td>...</td>\n",
       "      <td>Hayır</td>\n",
       "      <td>Var</td>\n",
       "      <td>Genel Fiyat</td>\n",
       "      <td>18000000</td>\n",
       "      <td>İstanbul</td>\n",
       "      <td>Beşiktaş</td>\n",
       "      <td>Nisbetiye Mahallesi</td>\n",
       "      <td>Avrupa Yakası</td>\n",
       "      <td>0.911</td>\n",
       "      <td>178.938</td>\n",
       "    </tr>\n",
       "    <tr>\n",
       "      <th>1</th>\n",
       "      <td>166</td>\n",
       "      <td>14 Ocak 2022</td>\n",
       "      <td>Satılık</td>\n",
       "      <td>300</td>\n",
       "      <td>21 Ve Üzeri</td>\n",
       "      <td>2</td>\n",
       "      <td>Kiracı Oturuyor</td>\n",
       "      <td>Bilinmiyor</td>\n",
       "      <td>Yok</td>\n",
       "      <td>3</td>\n",
       "      <td>...</td>\n",
       "      <td>Hayır</td>\n",
       "      <td>Var</td>\n",
       "      <td>Genel Fiyat</td>\n",
       "      <td>8500000</td>\n",
       "      <td>İstanbul</td>\n",
       "      <td>Beşiktaş</td>\n",
       "      <td>Akat Mahallesi</td>\n",
       "      <td>Avrupa Yakası</td>\n",
       "      <td>0.911</td>\n",
       "      <td>178.938</td>\n",
       "    </tr>\n",
       "    <tr>\n",
       "      <th>2</th>\n",
       "      <td>167</td>\n",
       "      <td>14 Ocak 2022</td>\n",
       "      <td>Satılık</td>\n",
       "      <td>350</td>\n",
       "      <td>21 Ve Üzeri</td>\n",
       "      <td>3</td>\n",
       "      <td>Mülk Sahibi Oturuyor</td>\n",
       "      <td>Bilinmiyor</td>\n",
       "      <td>Yok</td>\n",
       "      <td>2</td>\n",
       "      <td>...</td>\n",
       "      <td>Hayır</td>\n",
       "      <td>Var</td>\n",
       "      <td>Genel Fiyat</td>\n",
       "      <td>16500000</td>\n",
       "      <td>İstanbul</td>\n",
       "      <td>Beşiktaş</td>\n",
       "      <td>Levent Mahallesi</td>\n",
       "      <td>Avrupa Yakası</td>\n",
       "      <td>0.911</td>\n",
       "      <td>178.938</td>\n",
       "    </tr>\n",
       "    <tr>\n",
       "      <th>3</th>\n",
       "      <td>115</td>\n",
       "      <td>06 Ocak 2022</td>\n",
       "      <td>Satılık</td>\n",
       "      <td>450</td>\n",
       "      <td>5-10</td>\n",
       "      <td>4</td>\n",
       "      <td>Kiracı Oturuyor</td>\n",
       "      <td>Bilinmiyor</td>\n",
       "      <td>Yok</td>\n",
       "      <td>3</td>\n",
       "      <td>...</td>\n",
       "      <td>Hayır</td>\n",
       "      <td>Var</td>\n",
       "      <td>Genel Fiyat</td>\n",
       "      <td>22000000</td>\n",
       "      <td>İstanbul</td>\n",
       "      <td>Beşiktaş</td>\n",
       "      <td>Levazım Mahallesi</td>\n",
       "      <td>Avrupa Yakası</td>\n",
       "      <td>0.911</td>\n",
       "      <td>178.938</td>\n",
       "    </tr>\n",
       "    <tr>\n",
       "      <th>4</th>\n",
       "      <td>2879</td>\n",
       "      <td>08 Şubat 2022</td>\n",
       "      <td>Satılık</td>\n",
       "      <td>160</td>\n",
       "      <td>21 Ve Üzeri</td>\n",
       "      <td>2</td>\n",
       "      <td>Mülk Sahibi Oturuyor</td>\n",
       "      <td>Bilinmiyor</td>\n",
       "      <td>Yok</td>\n",
       "      <td>1</td>\n",
       "      <td>...</td>\n",
       "      <td>Hayır</td>\n",
       "      <td>Var</td>\n",
       "      <td>Genel Fiyat</td>\n",
       "      <td>4250000</td>\n",
       "      <td>İstanbul</td>\n",
       "      <td>Beşiktaş</td>\n",
       "      <td>Nisbetiye Mahallesi</td>\n",
       "      <td>Avrupa Yakası</td>\n",
       "      <td>0.911</td>\n",
       "      <td>178.938</td>\n",
       "    </tr>\n",
       "  </tbody>\n",
       "</table>\n",
       "<p>5 rows × 27 columns</p>\n",
       "</div>"
      ],
      "text/plain": [
       "   İlan_Numarası İlan_Güncelleme_Tarihi Kategorisi  Brüt_Metrekare  \\\n",
       "0           2003         02 Şubat 2022    Satılık              190   \n",
       "1            166          14 Ocak 2022    Satılık              300   \n",
       "2            167          14 Ocak 2022    Satılık              350   \n",
       "3            115          06 Ocak 2022    Satılık              450   \n",
       "4           2879         08 Şubat 2022    Satılık              160   \n",
       "\n",
       "   Binanın_Yaşı  Binanın_Kat_Sayısı        Kullanım_Durumu Yatırıma_Uygunluk  \\\n",
       "0         5-10                   20       Kiracı Oturuyor        Bilinmiyor    \n",
       "1  21 Ve Üzeri                    2       Kiracı Oturuyor        Bilinmiyor    \n",
       "2  21 Ve Üzeri                    3  Mülk Sahibi Oturuyor        Bilinmiyor    \n",
       "3         5-10                    4       Kiracı Oturuyor        Bilinmiyor    \n",
       "4  21 Ve Üzeri                    2  Mülk Sahibi Oturuyor        Bilinmiyor    \n",
       "\n",
       "  Eşya_Durumu Banyo_Sayısı  ... Site_İçerisinde Takas  Fiyat_Durumu    Fiyatı  \\\n",
       "0         Yok           2   ...           Hayır   Var  Genel Fiyat   18000000   \n",
       "1         Yok           3   ...           Hayır   Var  Genel Fiyat    8500000   \n",
       "2         Yok           2   ...           Hayır   Var  Genel Fiyat   16500000   \n",
       "3         Yok           3   ...           Hayır   Var  Genel Fiyat   22000000   \n",
       "4         Yok           1   ...           Hayır   Var  Genel Fiyat    4250000   \n",
       "\n",
       "          İl        İlçe                Mahalle           yaka Yaşam_endeksi  \\\n",
       "0  İstanbul    Beşiktaş    Nisbetiye Mahallesi   Avrupa Yakası         0.911   \n",
       "1  İstanbul    Beşiktaş         Akat Mahallesi   Avrupa Yakası         0.911   \n",
       "2  İstanbul    Beşiktaş       Levent Mahallesi   Avrupa Yakası         0.911   \n",
       "3  İstanbul    Beşiktaş      Levazım Mahallesi   Avrupa Yakası         0.911   \n",
       "4  İstanbul    Beşiktaş    Nisbetiye Mahallesi   Avrupa Yakası         0.911   \n",
       "\n",
       "     Nüfus  \n",
       "0  178.938  \n",
       "1  178.938  \n",
       "2  178.938  \n",
       "3  178.938  \n",
       "4  178.938  \n",
       "\n",
       "[5 rows x 27 columns]"
      ]
     },
     "execution_count": 3,
     "metadata": {},
     "output_type": "execute_result"
    }
   ],
   "source": [
    "df = pd.DataFrame(data = data)\n",
    "df.head()"
   ]
  },
  {
   "cell_type": "code",
   "execution_count": 4,
   "metadata": {},
   "outputs": [],
   "source": [
    "drop_columns = ['Brüt_Metrekare', 'İlan_Numarası', 'İlan_Güncelleme_Tarihi', 'Yatırıma_Uygunluk', 'İlan_Oluşturma_Tarihi', 'Site_İçerisinde', 'Takas', 'Fiyat_Durumu', 'Krediye_Uygunluk']\n",
    "df = df.drop(drop_columns, axis = 1)"
   ]
  },
  {
   "cell_type": "code",
   "execution_count": 5,
   "metadata": {},
   "outputs": [
    {
     "data": {
      "text/html": [
       "<div>\n",
       "<style scoped>\n",
       "    .dataframe tbody tr th:only-of-type {\n",
       "        vertical-align: middle;\n",
       "    }\n",
       "\n",
       "    .dataframe tbody tr th {\n",
       "        vertical-align: top;\n",
       "    }\n",
       "\n",
       "    .dataframe thead th {\n",
       "        text-align: right;\n",
       "    }\n",
       "</style>\n",
       "<table border=\"1\" class=\"dataframe\">\n",
       "  <thead>\n",
       "    <tr style=\"text-align: right;\">\n",
       "      <th></th>\n",
       "      <th>Kategorisi</th>\n",
       "      <th>Binanın_Yaşı</th>\n",
       "      <th>Binanın_Kat_Sayısı</th>\n",
       "      <th>Kullanım_Durumu</th>\n",
       "      <th>Eşya_Durumu</th>\n",
       "      <th>Banyo_Sayısı</th>\n",
       "      <th>Türü</th>\n",
       "      <th>Net_Metrekare</th>\n",
       "      <th>Oda_Sayısı</th>\n",
       "      <th>Bulunduğu_Kat</th>\n",
       "      <th>Isıtma_Tipi</th>\n",
       "      <th>Fiyatı</th>\n",
       "      <th>İl</th>\n",
       "      <th>İlçe</th>\n",
       "      <th>Mahalle</th>\n",
       "      <th>yaka</th>\n",
       "      <th>Yaşam_endeksi</th>\n",
       "      <th>Nüfus</th>\n",
       "    </tr>\n",
       "  </thead>\n",
       "  <tbody>\n",
       "    <tr>\n",
       "      <th>0</th>\n",
       "      <td>Satılık</td>\n",
       "      <td>5-10</td>\n",
       "      <td>20</td>\n",
       "      <td>Kiracı Oturuyor</td>\n",
       "      <td>Yok</td>\n",
       "      <td>2</td>\n",
       "      <td>Konut</td>\n",
       "      <td>168</td>\n",
       "      <td>4+1</td>\n",
       "      <td>1. Kat</td>\n",
       "      <td>Klimalı</td>\n",
       "      <td>18000000</td>\n",
       "      <td>İstanbul</td>\n",
       "      <td>Beşiktaş</td>\n",
       "      <td>Nisbetiye Mahallesi</td>\n",
       "      <td>Avrupa Yakası</td>\n",
       "      <td>0.911</td>\n",
       "      <td>178.938</td>\n",
       "    </tr>\n",
       "    <tr>\n",
       "      <th>1</th>\n",
       "      <td>Satılık</td>\n",
       "      <td>21 Ve Üzeri</td>\n",
       "      <td>2</td>\n",
       "      <td>Kiracı Oturuyor</td>\n",
       "      <td>Yok</td>\n",
       "      <td>3</td>\n",
       "      <td>Konut</td>\n",
       "      <td>270</td>\n",
       "      <td>5+1</td>\n",
       "      <td>Bahçe Katı</td>\n",
       "      <td>Doğalgaz</td>\n",
       "      <td>8500000</td>\n",
       "      <td>İstanbul</td>\n",
       "      <td>Beşiktaş</td>\n",
       "      <td>Akat Mahallesi</td>\n",
       "      <td>Avrupa Yakası</td>\n",
       "      <td>0.911</td>\n",
       "      <td>178.938</td>\n",
       "    </tr>\n",
       "    <tr>\n",
       "      <th>2</th>\n",
       "      <td>Satılık</td>\n",
       "      <td>21 Ve Üzeri</td>\n",
       "      <td>3</td>\n",
       "      <td>Mülk Sahibi Oturuyor</td>\n",
       "      <td>Yok</td>\n",
       "      <td>2</td>\n",
       "      <td>Konut</td>\n",
       "      <td>320</td>\n",
       "      <td>5+2</td>\n",
       "      <td>Düz Giriş</td>\n",
       "      <td>Doğalgaz</td>\n",
       "      <td>16500000</td>\n",
       "      <td>İstanbul</td>\n",
       "      <td>Beşiktaş</td>\n",
       "      <td>Levent Mahallesi</td>\n",
       "      <td>Avrupa Yakası</td>\n",
       "      <td>0.911</td>\n",
       "      <td>178.938</td>\n",
       "    </tr>\n",
       "    <tr>\n",
       "      <th>3</th>\n",
       "      <td>Satılık</td>\n",
       "      <td>5-10</td>\n",
       "      <td>4</td>\n",
       "      <td>Kiracı Oturuyor</td>\n",
       "      <td>Yok</td>\n",
       "      <td>3</td>\n",
       "      <td>Konut</td>\n",
       "      <td>400</td>\n",
       "      <td>6+2</td>\n",
       "      <td>Düz Giriş</td>\n",
       "      <td>Doğalgaz</td>\n",
       "      <td>22000000</td>\n",
       "      <td>İstanbul</td>\n",
       "      <td>Beşiktaş</td>\n",
       "      <td>Levazım Mahallesi</td>\n",
       "      <td>Avrupa Yakası</td>\n",
       "      <td>0.911</td>\n",
       "      <td>178.938</td>\n",
       "    </tr>\n",
       "    <tr>\n",
       "      <th>4</th>\n",
       "      <td>Satılık</td>\n",
       "      <td>21 Ve Üzeri</td>\n",
       "      <td>2</td>\n",
       "      <td>Mülk Sahibi Oturuyor</td>\n",
       "      <td>Yok</td>\n",
       "      <td>1</td>\n",
       "      <td>Konut</td>\n",
       "      <td>140</td>\n",
       "      <td>3+1</td>\n",
       "      <td>1. Kat</td>\n",
       "      <td>Doğalgaz</td>\n",
       "      <td>4250000</td>\n",
       "      <td>İstanbul</td>\n",
       "      <td>Beşiktaş</td>\n",
       "      <td>Nisbetiye Mahallesi</td>\n",
       "      <td>Avrupa Yakası</td>\n",
       "      <td>0.911</td>\n",
       "      <td>178.938</td>\n",
       "    </tr>\n",
       "  </tbody>\n",
       "</table>\n",
       "</div>"
      ],
      "text/plain": [
       "  Kategorisi  Binanın_Yaşı  Binanın_Kat_Sayısı        Kullanım_Durumu  \\\n",
       "0   Satılık          5-10                   20       Kiracı Oturuyor    \n",
       "1   Satılık   21 Ve Üzeri                    2       Kiracı Oturuyor    \n",
       "2   Satılık   21 Ve Üzeri                    3  Mülk Sahibi Oturuyor    \n",
       "3   Satılık          5-10                    4       Kiracı Oturuyor    \n",
       "4   Satılık   21 Ve Üzeri                    2  Mülk Sahibi Oturuyor    \n",
       "\n",
       "  Eşya_Durumu Banyo_Sayısı    Türü  Net_Metrekare Oda_Sayısı Bulunduğu_Kat  \\\n",
       "0         Yok           2   Konut             168       4+1        1. Kat    \n",
       "1         Yok           3   Konut             270       5+1    Bahçe Katı    \n",
       "2         Yok           2   Konut             320       5+2     Düz Giriş    \n",
       "3         Yok           3   Konut             400       6+2     Düz Giriş    \n",
       "4         Yok           1   Konut             140       3+1        1. Kat    \n",
       "\n",
       "  Isıtma_Tipi    Fiyatı         İl        İlçe                Mahalle  \\\n",
       "0    Klimalı   18000000  İstanbul    Beşiktaş    Nisbetiye Mahallesi    \n",
       "1    Doğalgaz   8500000  İstanbul    Beşiktaş         Akat Mahallesi    \n",
       "2    Doğalgaz  16500000  İstanbul    Beşiktaş       Levent Mahallesi    \n",
       "3    Doğalgaz  22000000  İstanbul    Beşiktaş      Levazım Mahallesi    \n",
       "4    Doğalgaz   4250000  İstanbul    Beşiktaş    Nisbetiye Mahallesi    \n",
       "\n",
       "            yaka  Yaşam_endeksi    Nüfus  \n",
       "0  Avrupa Yakası          0.911  178.938  \n",
       "1  Avrupa Yakası          0.911  178.938  \n",
       "2  Avrupa Yakası          0.911  178.938  \n",
       "3  Avrupa Yakası          0.911  178.938  \n",
       "4  Avrupa Yakası          0.911  178.938  "
      ]
     },
     "execution_count": 5,
     "metadata": {},
     "output_type": "execute_result"
    }
   ],
   "source": [
    "df.head()"
   ]
  },
  {
   "cell_type": "code",
   "execution_count": 6,
   "metadata": {},
   "outputs": [
    {
     "data": {
      "text/plain": [
       "array(['Satılık '], dtype=object)"
      ]
     },
     "execution_count": 6,
     "metadata": {},
     "output_type": "execute_result"
    }
   ],
   "source": [
    "df['Kategorisi'].unique()"
   ]
  },
  {
   "cell_type": "code",
   "execution_count": 7,
   "metadata": {},
   "outputs": [
    {
     "data": {
      "text/plain": [
       "array(['Yok', 'Var'], dtype=object)"
      ]
     },
     "execution_count": 7,
     "metadata": {},
     "output_type": "execute_result"
    }
   ],
   "source": [
    "df['Eşya_Durumu'].unique()"
   ]
  },
  {
   "cell_type": "code",
   "execution_count": 8,
   "metadata": {},
   "outputs": [
    {
     "data": {
      "text/plain": [
       "array(['Konut '], dtype=object)"
      ]
     },
     "execution_count": 8,
     "metadata": {},
     "output_type": "execute_result"
    }
   ],
   "source": [
    "df['Türü'].unique()"
   ]
  },
  {
   "cell_type": "code",
   "execution_count": 9,
   "metadata": {},
   "outputs": [
    {
     "data": {
      "text/plain": [
       "array(['İstanbul '], dtype=object)"
      ]
     },
     "execution_count": 9,
     "metadata": {},
     "output_type": "execute_result"
    }
   ],
   "source": [
    "df['İl'].unique()"
   ]
  },
  {
   "cell_type": "code",
   "execution_count": 10,
   "metadata": {},
   "outputs": [
    {
     "data": {
      "text/plain": [
       "array([' Beşiktaş ', ' Şişli ', ' Avcılar ', ' Bahçelievler ',\n",
       "       ' Bakırköy ', ' Başakşehir ', ' Kadıköy ', ' Beylikdüzü ',\n",
       "       ' Pendik ', ' Esenyurt ', ' Maltepe ', ' Bağcılar ', ' Sarıyer '],\n",
       "      dtype=object)"
      ]
     },
     "execution_count": 10,
     "metadata": {},
     "output_type": "execute_result"
    }
   ],
   "source": [
    "df['İlçe'].unique()"
   ]
  },
  {
   "cell_type": "code",
   "execution_count": 11,
   "metadata": {},
   "outputs": [
    {
     "data": {
      "text/plain": [
       "array([' Nisbetiye Mahallesi ', ' Akat Mahallesi ', ' Levent Mahallesi ',\n",
       "       ' Levazım Mahallesi ', ' Arnavutköy Mahallesi ',\n",
       "       ' Sinanpaşa Mahallesi ', ' Etiler Mahallesi ',\n",
       "       ' Yıldız Mahallesi ', ' Dikilitaş Mahallesi ',\n",
       "       ' Gayrettepe Mahallesi ', ' Ortaköy Mahallesi ',\n",
       "       ' Mecidiye Mahallesi ', ' Bebek Mahallesi ', ' Türkali Mahallesi ',\n",
       "       ' Ulus Mahallesi ', ' Abbasağa Mahallesi ',\n",
       "       ' Cihannüma Mahallesi ', ' Vişnezade Mahallesi ',\n",
       "       ' Kültür Mahallesi ', ' Muradiye Mahallesi ',\n",
       "       ' Balmumcu Mahallesi ', ' Kuruçeşme Mahallesi ',\n",
       "       ' Gümüşpala Mahallesi ', ' Ambarlı Mahallesi ',\n",
       "       ' Mustafa Kemal Paşa Mahallesi ', ' Üniversite Mahallesi ',\n",
       "       ' Merkez Mahallesi ', ' Cihangir Mahallesi ',\n",
       "       ' Denizköşkler Mahallesi ', ' Tahtakale Mahallesi ',\n",
       "       ' Yeşilkent Mahallesi ', ' Firuzköy Mahallesi ',\n",
       "       ' Yenibosna Merkez Mahallesi ', ' Zafer Mahallesi ',\n",
       "       ' Soğanlı Mahallesi ', ' Çobançeşme Mahallesi ',\n",
       "       ' Hürriyet Mahallesi ', ' Siyavuşpaşa Mahallesi ',\n",
       "       ' Bahçelievler Mahallesi ', ' Fevzi Çakmak Mahallesi ',\n",
       "       ' Şirinevler Mahallesi ', ' Kocasinan Merkez Mahallesi ',\n",
       "       ' Cumhuriyet Mahallesi ', ' Osmaniye Mahallesi ',\n",
       "       ' Cevizlik Mahallesi ', ' Zeytinlik Mahallesi ',\n",
       "       ' Yeşilköy Mahallesi ', ' Ataköy 2', ' Şenlikköy Mahallesi ',\n",
       "       ' Ataköy 7', ' Ataköy 3', ' Zuhuratbaba Mahallesi ',\n",
       "       ' Basınköy Mahallesi ', ' Kartaltepe Mahallesi ',\n",
       "       ' Yeşilyurt Mahallesi ', ' Sakızağacı Mahallesi ',\n",
       "       ' Yenimahalle Mahallesi ', ' Kayabaşı Mahallesi ',\n",
       "       ' Güvercintepe Mahallesi ', ' Bahçeşehir 2. Kısım Mahallesi ',\n",
       "       ' Başakşehir Mahallesi ', ' Altınşehir Mahallesi ',\n",
       "       ' Başak Mahallesi ', ' Ziya Gökalp Mahallesi ',\n",
       "       ' Bahçeşehir 1. Kısım Mahallesi ', ' İkitelli OSB Mahallesi ',\n",
       "       ' Şahintepe Mahallesi ', ' Erenköy Mahallesi ',\n",
       "       ' 19 Mayıs Mahallesi ', ' Suadiye Mahallesi ',\n",
       "       ' Zühtüpaşa Mahallesi ', ' Kozyatağı Mahallesi ',\n",
       "       ' Fenerbahçe Mahallesi ', ' Sahrayı Cedit Mahallesi ',\n",
       "       ' Göztepe Mahallesi ', ' Caddebostan Mahallesi ',\n",
       "       ' Bostancı Mahallesi ', ' Feneryolu Mahallesi ',\n",
       "       ' Merdivenköy Mahallesi ', ' Eğitim Mahallesi ',\n",
       "       ' Acıbadem Mahallesi ', ' Fikirtepe Mahallesi ',\n",
       "       ' Osmanağa Mahallesi ', ' Caferağa Mahallesi ',\n",
       "       ' Dumlupınar Mahallesi ', ' Rasimpaşa Mahallesi ',\n",
       "       ' Marmara Mahallesi ', ' Yakuplu Mahallesi ',\n",
       "       ' Adnan Kahveci Mahallesi ', ' Gürpınar Mahallesi ',\n",
       "       ' Barış Mahallesi ', ' Büyükşehir Mahallesi ',\n",
       "       ' Beylikdüzü OSB Mahallesi ', ' Kavaklı Mahallesi ',\n",
       "       ' Dereağzı Mahallesi ', ' Batı Mahallesi ', ' Kaynarca Mahallesi ',\n",
       "       ' Kavakpınar Mahallesi ', ' Velibaba Mahallesi ',\n",
       "       ' Sülüntepe Mahallesi ', ' Şeyhli Mahallesi ',\n",
       "       ' Kurtköy Mahallesi ', ' Yenişehir Mahallesi ', ' Yeni Mahallesi ',\n",
       "       ' Esenler Mahallesi ', ' Yayalar Mahallesi ',\n",
       "       ' Çınardere Mahallesi ', ' Çamlık Mahallesi ',\n",
       "       ' Ahmet Yesevi Mahallesi ', ' Güzelyalı Mahallesi ',\n",
       "       ' Güllü Bağlar Mahallesi ', ' Çamçeşme Mahallesi ',\n",
       "       ' Orhangazi Mahallesi ', ' Doğu Mahallesi ',\n",
       "       ' Yeşilbağlar Mahallesi ', ' Esenyalı Mahallesi ',\n",
       "       ' Harmandere Mahallesi ', ' Sapan Bağları Mahallesi ',\n",
       "       ' Fatih Mahallesi ', ' Kurna Mahallesi ',\n",
       "       ' Necip Fazıl Kısakürek Mahallesi ', ' Bağlarçeşme Mahallesi ',\n",
       "       ' Saadetdere Mahallesi ', ' Barbaros Hayrettin Paşa Mahallesi ',\n",
       "       ' Çınar Mahallesi ', ' Orhan Gazi Mahallesi ',\n",
       "       ' Ardıçlı Mahallesi ', ' Süleymaniye Mahallesi ',\n",
       "       ' Selahaddin Eyyubi Mahallesi ', ' Osmangazi Mahallesi ',\n",
       "       ' Piri Reis Mahallesi ', ' Örnek Mahallesi ',\n",
       "       ' Turgut Özal Mahallesi ', ' Battalgazi Mahallesi ',\n",
       "       ' Yunus Emre Mahallesi ', ' Aşık Veysel Mahallesi ',\n",
       "       ' Güzelyurt Mahallesi ', ' Mehterçeşme Mahallesi ',\n",
       "       ' Pınar Mahallesi ', ' İstiklal Mahallesi ',\n",
       "       ' Mehmet Akif Ersoy Mahallesi ', ' Üçevler Mahallesi ',\n",
       "       ' Akevler Mahallesi ', ' Balıkyolu Mahallesi ',\n",
       "       ' İncirtepe Mahallesi ', ' Yenikent Mahallesi ',\n",
       "       ' Sultaniye Mahallesi ', ' Gökevler Mahallesi ',\n",
       "       ' Şehitler Mahallesi ', ' Mevlana Mahallesi ', ' İnönü Mahallesi ',\n",
       "       ' Talatpaşa Mahallesi ', ' Akşemseddin Mahallesi ',\n",
       "       ' Namık Kemal Mahallesi ', ' Akçaburgaz Mahallesi ',\n",
       "       ' Küçükyalı Mahallesi ', ' İdealtepe Mahallesi ',\n",
       "       ' Feyzullah Mahallesi ', ' Altıntepe Mahallesi ',\n",
       "       ' Cevizli Mahallesi ', ' Fındıklı Mahallesi ',\n",
       "       ' Bağlarbaşı Mahallesi ', ' Zümrütevler Mahallesi ',\n",
       "       ' Aydınevler Mahallesi ', ' Girne Mahallesi ', ' Yalı Mahallesi ',\n",
       "       ' Altayçeşme Mahallesi ', ' Esenkent Mahallesi ',\n",
       "       ' Gülsuyu Mahallesi ', ' 15 Temmuz Mahallesi ',\n",
       "       ' Bağlar Mahallesi ', ' Demirkapı Mahallesi ',\n",
       "       ' Mahmutbey Mahallesi ', ' Kirazlı Mahallesi ',\n",
       "       ' Barbaros Mahallesi ', ' Yıldıztepe Mahallesi ',\n",
       "       ' Güneşli Mahallesi ', ' Yenigün Mahallesi ',\n",
       "       ' 100. Yıl Mahallesi ', ' Kazım Karabekir Mahallesi ',\n",
       "       ' Sancaktepe Mahallesi ', ' Yavuz Selim Mahallesi ',\n",
       "       ' Baltalimanı Mahallesi ', ' Huzur Mahallesi ',\n",
       "       ' Maden Mahallesi ', ' Maslak Mahallesi ',\n",
       "       ' Kazım Karabekir Paşa Mahallesi ', ' Ayazağa Mahallesi ',\n",
       "       ' Kireçburnu Mahallesi ', ' Emirgan Mahallesi ',\n",
       "       ' Büyükdere Mahallesi ', ' Gümüşdere Mahallesi ',\n",
       "       ' Bahçeköy Merkez Mahallesi ', ' Uskumruköy Mahallesi ',\n",
       "       ' İstinye Mahallesi ', ' Fatih Sultan Mehmet Mahallesi ',\n",
       "       ' Sarıyer Merkez Mahallesi ', ' Reşitpaşa Mahallesi ',\n",
       "       ' Çayırbaşı Mahallesi ', ' Demirciköy Mahallesi ',\n",
       "       ' Bahçeköy Yeni Mahallesi ', ' Rumeli Hisarı Mahallesi ',\n",
       "       ' Zekeriyaköy Mahallesi ', ' Yeniköy Mahallesi ',\n",
       "       ' Ferahevler Mahallesi ', ' Bahçeköy Kemer Mahallesi ',\n",
       "       ' Tarabya Mahallesi ', ' Kumköy Mahallesi ', ' Kocataş Mahallesi ',\n",
       "       ' Darüşşafaka Mahallesi '], dtype=object)"
      ]
     },
     "execution_count": 11,
     "metadata": {},
     "output_type": "execute_result"
    }
   ],
   "source": [
    "df['Mahalle'].unique()"
   ]
  },
  {
   "cell_type": "code",
   "execution_count": 12,
   "metadata": {},
   "outputs": [
    {
     "data": {
      "text/plain": [
       "array(['Avrupa Yakası', 'Anadolu Yakası'], dtype=object)"
      ]
     },
     "execution_count": 12,
     "metadata": {},
     "output_type": "execute_result"
    }
   ],
   "source": [
    "df['yaka'].unique()"
   ]
  },
  {
   "cell_type": "code",
   "execution_count": 13,
   "metadata": {},
   "outputs": [
    {
     "data": {
      "text/plain": [
       "array([ 0.911,  0.574, -0.161,  0.053,  0.613, -0.152,  0.886,  0.025,\n",
       "        0.032, -0.194,  0.161, -0.19 ,  0.347])"
      ]
     },
     "execution_count": 13,
     "metadata": {},
     "output_type": "execute_result"
    }
   ],
   "source": [
    "df['Yaşam_endeksi'].unique()"
   ]
  },
  {
   "cell_type": "code",
   "execution_count": 14,
   "metadata": {},
   "outputs": [
    {
     "data": {
      "text/plain": [
       "array([178.938, 284.294, 457.981, 605.3  , 228.759, 503.243, 485.233,\n",
       "       398.122, 741.895, 977.489, 525.566, 744.351, 349.968])"
      ]
     },
     "execution_count": 14,
     "metadata": {},
     "output_type": "execute_result"
    }
   ],
   "source": [
    "df['Nüfus'].unique()"
   ]
  },
  {
   "cell_type": "code",
   "execution_count": 15,
   "metadata": {},
   "outputs": [],
   "source": [
    "drop_columns = ['Kategorisi', 'Türü', 'İl']\n",
    "df = df.drop(drop_columns, axis = 1)"
   ]
  },
  {
   "cell_type": "code",
   "execution_count": 16,
   "metadata": {},
   "outputs": [
    {
     "data": {
      "text/html": [
       "<div>\n",
       "<style scoped>\n",
       "    .dataframe tbody tr th:only-of-type {\n",
       "        vertical-align: middle;\n",
       "    }\n",
       "\n",
       "    .dataframe tbody tr th {\n",
       "        vertical-align: top;\n",
       "    }\n",
       "\n",
       "    .dataframe thead th {\n",
       "        text-align: right;\n",
       "    }\n",
       "</style>\n",
       "<table border=\"1\" class=\"dataframe\">\n",
       "  <thead>\n",
       "    <tr style=\"text-align: right;\">\n",
       "      <th></th>\n",
       "      <th>Binanın_Yaşı</th>\n",
       "      <th>Binanın_Kat_Sayısı</th>\n",
       "      <th>Kullanım_Durumu</th>\n",
       "      <th>Eşya_Durumu</th>\n",
       "      <th>Banyo_Sayısı</th>\n",
       "      <th>Net_Metrekare</th>\n",
       "      <th>Oda_Sayısı</th>\n",
       "      <th>Bulunduğu_Kat</th>\n",
       "      <th>Isıtma_Tipi</th>\n",
       "      <th>Fiyatı</th>\n",
       "      <th>İlçe</th>\n",
       "      <th>Mahalle</th>\n",
       "      <th>yaka</th>\n",
       "      <th>Yaşam_endeksi</th>\n",
       "      <th>Nüfus</th>\n",
       "    </tr>\n",
       "  </thead>\n",
       "  <tbody>\n",
       "    <tr>\n",
       "      <th>0</th>\n",
       "      <td>5-10</td>\n",
       "      <td>20</td>\n",
       "      <td>Kiracı Oturuyor</td>\n",
       "      <td>Yok</td>\n",
       "      <td>2</td>\n",
       "      <td>168</td>\n",
       "      <td>4+1</td>\n",
       "      <td>1. Kat</td>\n",
       "      <td>Klimalı</td>\n",
       "      <td>18000000</td>\n",
       "      <td>Beşiktaş</td>\n",
       "      <td>Nisbetiye Mahallesi</td>\n",
       "      <td>Avrupa Yakası</td>\n",
       "      <td>0.911</td>\n",
       "      <td>178.938</td>\n",
       "    </tr>\n",
       "    <tr>\n",
       "      <th>1</th>\n",
       "      <td>21 Ve Üzeri</td>\n",
       "      <td>2</td>\n",
       "      <td>Kiracı Oturuyor</td>\n",
       "      <td>Yok</td>\n",
       "      <td>3</td>\n",
       "      <td>270</td>\n",
       "      <td>5+1</td>\n",
       "      <td>Bahçe Katı</td>\n",
       "      <td>Doğalgaz</td>\n",
       "      <td>8500000</td>\n",
       "      <td>Beşiktaş</td>\n",
       "      <td>Akat Mahallesi</td>\n",
       "      <td>Avrupa Yakası</td>\n",
       "      <td>0.911</td>\n",
       "      <td>178.938</td>\n",
       "    </tr>\n",
       "    <tr>\n",
       "      <th>2</th>\n",
       "      <td>21 Ve Üzeri</td>\n",
       "      <td>3</td>\n",
       "      <td>Mülk Sahibi Oturuyor</td>\n",
       "      <td>Yok</td>\n",
       "      <td>2</td>\n",
       "      <td>320</td>\n",
       "      <td>5+2</td>\n",
       "      <td>Düz Giriş</td>\n",
       "      <td>Doğalgaz</td>\n",
       "      <td>16500000</td>\n",
       "      <td>Beşiktaş</td>\n",
       "      <td>Levent Mahallesi</td>\n",
       "      <td>Avrupa Yakası</td>\n",
       "      <td>0.911</td>\n",
       "      <td>178.938</td>\n",
       "    </tr>\n",
       "    <tr>\n",
       "      <th>3</th>\n",
       "      <td>5-10</td>\n",
       "      <td>4</td>\n",
       "      <td>Kiracı Oturuyor</td>\n",
       "      <td>Yok</td>\n",
       "      <td>3</td>\n",
       "      <td>400</td>\n",
       "      <td>6+2</td>\n",
       "      <td>Düz Giriş</td>\n",
       "      <td>Doğalgaz</td>\n",
       "      <td>22000000</td>\n",
       "      <td>Beşiktaş</td>\n",
       "      <td>Levazım Mahallesi</td>\n",
       "      <td>Avrupa Yakası</td>\n",
       "      <td>0.911</td>\n",
       "      <td>178.938</td>\n",
       "    </tr>\n",
       "    <tr>\n",
       "      <th>4</th>\n",
       "      <td>21 Ve Üzeri</td>\n",
       "      <td>2</td>\n",
       "      <td>Mülk Sahibi Oturuyor</td>\n",
       "      <td>Yok</td>\n",
       "      <td>1</td>\n",
       "      <td>140</td>\n",
       "      <td>3+1</td>\n",
       "      <td>1. Kat</td>\n",
       "      <td>Doğalgaz</td>\n",
       "      <td>4250000</td>\n",
       "      <td>Beşiktaş</td>\n",
       "      <td>Nisbetiye Mahallesi</td>\n",
       "      <td>Avrupa Yakası</td>\n",
       "      <td>0.911</td>\n",
       "      <td>178.938</td>\n",
       "    </tr>\n",
       "  </tbody>\n",
       "</table>\n",
       "</div>"
      ],
      "text/plain": [
       "   Binanın_Yaşı  Binanın_Kat_Sayısı        Kullanım_Durumu Eşya_Durumu  \\\n",
       "0         5-10                   20       Kiracı Oturuyor          Yok   \n",
       "1  21 Ve Üzeri                    2       Kiracı Oturuyor          Yok   \n",
       "2  21 Ve Üzeri                    3  Mülk Sahibi Oturuyor          Yok   \n",
       "3         5-10                    4       Kiracı Oturuyor          Yok   \n",
       "4  21 Ve Üzeri                    2  Mülk Sahibi Oturuyor          Yok   \n",
       "\n",
       "  Banyo_Sayısı  Net_Metrekare Oda_Sayısı Bulunduğu_Kat Isıtma_Tipi    Fiyatı  \\\n",
       "0           2             168       4+1        1. Kat     Klimalı   18000000   \n",
       "1           3             270       5+1    Bahçe Katı     Doğalgaz   8500000   \n",
       "2           2             320       5+2     Düz Giriş     Doğalgaz  16500000   \n",
       "3           3             400       6+2     Düz Giriş     Doğalgaz  22000000   \n",
       "4           1             140       3+1        1. Kat     Doğalgaz   4250000   \n",
       "\n",
       "         İlçe                Mahalle           yaka  Yaşam_endeksi    Nüfus  \n",
       "0   Beşiktaş    Nisbetiye Mahallesi   Avrupa Yakası          0.911  178.938  \n",
       "1   Beşiktaş         Akat Mahallesi   Avrupa Yakası          0.911  178.938  \n",
       "2   Beşiktaş       Levent Mahallesi   Avrupa Yakası          0.911  178.938  \n",
       "3   Beşiktaş      Levazım Mahallesi   Avrupa Yakası          0.911  178.938  \n",
       "4   Beşiktaş    Nisbetiye Mahallesi   Avrupa Yakası          0.911  178.938  "
      ]
     },
     "execution_count": 16,
     "metadata": {},
     "output_type": "execute_result"
    }
   ],
   "source": [
    "df.head()"
   ]
  },
  {
   "cell_type": "code",
   "execution_count": 17,
   "metadata": {},
   "outputs": [
    {
     "data": {
      "text/plain": [
       "array(['5-10 ', '21 Ve Üzeri ', '16-20 ', '0 (Yeni) ', '4 ', '2 ', '1 ',\n",
       "       '11-15 ', '3 '], dtype=object)"
      ]
     },
     "execution_count": 17,
     "metadata": {},
     "output_type": "execute_result"
    }
   ],
   "source": [
    "df['Binanın_Yaşı'].unique()"
   ]
  },
  {
   "cell_type": "code",
   "execution_count": 18,
   "metadata": {},
   "outputs": [],
   "source": [
    "old_mapping = {'5-10 ': 7, '21 Ve Üzeri ': 18, '0 (Yeni) ': 0, '4 ': 4, '2 ': 2, '1 ': 1, '11-15 ': 13, '3 ': 3}\n",
    "df['Binanın_Yaşı'] = df['Binanın_Yaşı'].map(old_mapping)"
   ]
  },
  {
   "cell_type": "code",
   "execution_count": 19,
   "metadata": {},
   "outputs": [
    {
     "data": {
      "text/plain": [
       "array(['Kiracı Oturuyor ', 'Mülk Sahibi Oturuyor ', 'Boş '], dtype=object)"
      ]
     },
     "execution_count": 19,
     "metadata": {},
     "output_type": "execute_result"
    }
   ],
   "source": [
    "df['Kullanım_Durumu'].unique()"
   ]
  },
  {
   "cell_type": "code",
   "execution_count": 20,
   "metadata": {},
   "outputs": [],
   "source": [
    "house_using = {'Boş ': 0,'Mülk Sahibi Oturuyor ': 1,'Kiracı Oturuyor ': 2}\n",
    "df['Kullanım_Durumu'] = df['Kullanım_Durumu'].map(house_using)"
   ]
  },
  {
   "cell_type": "code",
   "execution_count": 21,
   "metadata": {},
   "outputs": [
    {
     "data": {
      "text/plain": [
       "array(['Yok', 'Var'], dtype=object)"
      ]
     },
     "execution_count": 21,
     "metadata": {},
     "output_type": "execute_result"
    }
   ],
   "source": [
    "df['Eşya_Durumu'].unique()"
   ]
  },
  {
   "cell_type": "code",
   "execution_count": 22,
   "metadata": {},
   "outputs": [],
   "source": [
    "furniture = {'Yok': 0,'Var': 1}\n",
    "df['Eşya_Durumu'] = df['Eşya_Durumu'].map(furniture)"
   ]
  },
  {
   "cell_type": "code",
   "execution_count": 23,
   "metadata": {},
   "outputs": [],
   "source": [
    "df['Bulunduğu_Kat'] = pd.factorize(df['Bulunduğu_Kat'])[0]"
   ]
  },
  {
   "cell_type": "code",
   "execution_count": 24,
   "metadata": {},
   "outputs": [],
   "source": [
    "df['Oda_Sayısı'] = pd.factorize(df['Oda_Sayısı'])[0]"
   ]
  },
  {
   "cell_type": "code",
   "execution_count": 25,
   "metadata": {},
   "outputs": [],
   "source": [
    "df['Isıtma_Tipi'] = pd.factorize(df['Isıtma_Tipi'])[0]"
   ]
  },
  {
   "cell_type": "code",
   "execution_count": 26,
   "metadata": {},
   "outputs": [],
   "source": [
    "df['İlçe'] = pd.factorize(df['İlçe'])[0]"
   ]
  },
  {
   "cell_type": "code",
   "execution_count": 27,
   "metadata": {},
   "outputs": [],
   "source": [
    "df['Mahalle'] = pd.factorize(df['Mahalle'])[0]"
   ]
  },
  {
   "cell_type": "code",
   "execution_count": 28,
   "metadata": {},
   "outputs": [],
   "source": [
    "df['yaka'] = pd.factorize(df['yaka'])[0]"
   ]
  },
  {
   "cell_type": "code",
   "execution_count": 29,
   "metadata": {},
   "outputs": [
    {
     "data": {
      "text/html": [
       "<div>\n",
       "<style scoped>\n",
       "    .dataframe tbody tr th:only-of-type {\n",
       "        vertical-align: middle;\n",
       "    }\n",
       "\n",
       "    .dataframe tbody tr th {\n",
       "        vertical-align: top;\n",
       "    }\n",
       "\n",
       "    .dataframe thead th {\n",
       "        text-align: right;\n",
       "    }\n",
       "</style>\n",
       "<table border=\"1\" class=\"dataframe\">\n",
       "  <thead>\n",
       "    <tr style=\"text-align: right;\">\n",
       "      <th></th>\n",
       "      <th>Binanın_Yaşı</th>\n",
       "      <th>Binanın_Kat_Sayısı</th>\n",
       "      <th>Kullanım_Durumu</th>\n",
       "      <th>Eşya_Durumu</th>\n",
       "      <th>Banyo_Sayısı</th>\n",
       "      <th>Net_Metrekare</th>\n",
       "      <th>Oda_Sayısı</th>\n",
       "      <th>Bulunduğu_Kat</th>\n",
       "      <th>Isıtma_Tipi</th>\n",
       "      <th>Fiyatı</th>\n",
       "      <th>İlçe</th>\n",
       "      <th>Mahalle</th>\n",
       "      <th>yaka</th>\n",
       "      <th>Yaşam_endeksi</th>\n",
       "      <th>Nüfus</th>\n",
       "    </tr>\n",
       "  </thead>\n",
       "  <tbody>\n",
       "    <tr>\n",
       "      <th>0</th>\n",
       "      <td>7.0</td>\n",
       "      <td>20</td>\n",
       "      <td>2</td>\n",
       "      <td>0</td>\n",
       "      <td>2</td>\n",
       "      <td>168</td>\n",
       "      <td>0</td>\n",
       "      <td>0</td>\n",
       "      <td>0</td>\n",
       "      <td>18000000</td>\n",
       "      <td>0</td>\n",
       "      <td>0</td>\n",
       "      <td>0</td>\n",
       "      <td>0.911</td>\n",
       "      <td>178.938</td>\n",
       "    </tr>\n",
       "    <tr>\n",
       "      <th>1</th>\n",
       "      <td>18.0</td>\n",
       "      <td>2</td>\n",
       "      <td>2</td>\n",
       "      <td>0</td>\n",
       "      <td>3</td>\n",
       "      <td>270</td>\n",
       "      <td>1</td>\n",
       "      <td>1</td>\n",
       "      <td>1</td>\n",
       "      <td>8500000</td>\n",
       "      <td>0</td>\n",
       "      <td>1</td>\n",
       "      <td>0</td>\n",
       "      <td>0.911</td>\n",
       "      <td>178.938</td>\n",
       "    </tr>\n",
       "    <tr>\n",
       "      <th>2</th>\n",
       "      <td>18.0</td>\n",
       "      <td>3</td>\n",
       "      <td>1</td>\n",
       "      <td>0</td>\n",
       "      <td>2</td>\n",
       "      <td>320</td>\n",
       "      <td>2</td>\n",
       "      <td>2</td>\n",
       "      <td>1</td>\n",
       "      <td>16500000</td>\n",
       "      <td>0</td>\n",
       "      <td>2</td>\n",
       "      <td>0</td>\n",
       "      <td>0.911</td>\n",
       "      <td>178.938</td>\n",
       "    </tr>\n",
       "    <tr>\n",
       "      <th>3</th>\n",
       "      <td>7.0</td>\n",
       "      <td>4</td>\n",
       "      <td>2</td>\n",
       "      <td>0</td>\n",
       "      <td>3</td>\n",
       "      <td>400</td>\n",
       "      <td>3</td>\n",
       "      <td>2</td>\n",
       "      <td>1</td>\n",
       "      <td>22000000</td>\n",
       "      <td>0</td>\n",
       "      <td>3</td>\n",
       "      <td>0</td>\n",
       "      <td>0.911</td>\n",
       "      <td>178.938</td>\n",
       "    </tr>\n",
       "    <tr>\n",
       "      <th>4</th>\n",
       "      <td>18.0</td>\n",
       "      <td>2</td>\n",
       "      <td>1</td>\n",
       "      <td>0</td>\n",
       "      <td>1</td>\n",
       "      <td>140</td>\n",
       "      <td>4</td>\n",
       "      <td>0</td>\n",
       "      <td>1</td>\n",
       "      <td>4250000</td>\n",
       "      <td>0</td>\n",
       "      <td>0</td>\n",
       "      <td>0</td>\n",
       "      <td>0.911</td>\n",
       "      <td>178.938</td>\n",
       "    </tr>\n",
       "  </tbody>\n",
       "</table>\n",
       "</div>"
      ],
      "text/plain": [
       "   Binanın_Yaşı  Binanın_Kat_Sayısı  Kullanım_Durumu  Eşya_Durumu  \\\n",
       "0           7.0                  20                2            0   \n",
       "1          18.0                   2                2            0   \n",
       "2          18.0                   3                1            0   \n",
       "3           7.0                   4                2            0   \n",
       "4          18.0                   2                1            0   \n",
       "\n",
       "  Banyo_Sayısı  Net_Metrekare  Oda_Sayısı  Bulunduğu_Kat  Isıtma_Tipi  \\\n",
       "0           2             168           0              0            0   \n",
       "1           3             270           1              1            1   \n",
       "2           2             320           2              2            1   \n",
       "3           3             400           3              2            1   \n",
       "4           1             140           4              0            1   \n",
       "\n",
       "     Fiyatı  İlçe  Mahalle  yaka  Yaşam_endeksi    Nüfus  \n",
       "0  18000000     0        0     0          0.911  178.938  \n",
       "1   8500000     0        1     0          0.911  178.938  \n",
       "2  16500000     0        2     0          0.911  178.938  \n",
       "3  22000000     0        3     0          0.911  178.938  \n",
       "4   4250000     0        0     0          0.911  178.938  "
      ]
     },
     "execution_count": 29,
     "metadata": {},
     "output_type": "execute_result"
    }
   ],
   "source": [
    "df.head()"
   ]
  },
  {
   "cell_type": "code",
   "execution_count": 30,
   "metadata": {},
   "outputs": [
    {
     "data": {
      "text/plain": [
       "array([178.938, 284.294, 457.981, 605.3  , 228.759, 503.243, 485.233,\n",
       "       398.122, 741.895, 977.489, 525.566, 744.351, 349.968])"
      ]
     },
     "execution_count": 30,
     "metadata": {},
     "output_type": "execute_result"
    }
   ],
   "source": [
    "df['Nüfus'].unique()"
   ]
  },
  {
   "cell_type": "code",
   "execution_count": 31,
   "metadata": {},
   "outputs": [
    {
     "name": "stdout",
     "output_type": "stream",
     "text": [
      "      Binanın_Yaşı  Binanın_Kat_Sayısı  Kullanım_Durumu  Eşya_Durumu  \\\n",
      "0              7.0                  20                2            0   \n",
      "1             18.0                   2                2            0   \n",
      "2             18.0                   3                1            0   \n",
      "3              7.0                   4                2            0   \n",
      "4             18.0                   2                1            0   \n",
      "...            ...                 ...              ...          ...   \n",
      "2978          18.0                   4                2            0   \n",
      "2979           NaN                   4                2            0   \n",
      "2980           NaN                   4                2            0   \n",
      "2981          18.0                   3                1            0   \n",
      "2982           7.0                   2                2            0   \n",
      "\n",
      "     Banyo_Sayısı  Net_Metrekare  Oda_Sayısı  Bulunduğu_Kat  Isıtma_Tipi  \\\n",
      "0              2             168           0              0            0   \n",
      "1              3             270           1              1            1   \n",
      "2              2             320           2              2            1   \n",
      "3              3             400           3              2            1   \n",
      "4              1             140           4              0            1   \n",
      "...           ...            ...         ...            ...          ...   \n",
      "2978           5             400           3              2            1   \n",
      "2979           1             145           4              2            1   \n",
      "2980           3             170           0              5            1   \n",
      "2981           4             800          11              2            1   \n",
      "2982           3             235           0              1            1   \n",
      "\n",
      "        Fiyatı  İlçe  Mahalle  yaka  Yaşam_endeksi    Nüfus  \n",
      "0     18000000     0        0     0          0.911  178.938  \n",
      "1      8500000     0        1     0          0.911  178.938  \n",
      "2     16500000     0        2     0          0.911  178.938  \n",
      "3     22000000     0        3     0          0.911  178.938  \n",
      "4      4250000     0        0     0          0.911  178.938  \n",
      "...        ...   ...      ...   ...            ...      ...  \n",
      "2978   6100000    12      185     0          0.347  349.968  \n",
      "2979   2050000    12      185     0          0.347  349.968  \n",
      "2980   7850000    12      197     0          0.347  349.968  \n",
      "2981   4900000    12      184     0          0.347  349.968  \n",
      "2982   3700000    12      185     0          0.347  349.968  \n",
      "\n",
      "[2983 rows x 15 columns]\n"
     ]
    }
   ],
   "source": [
    "print(df)"
   ]
  },
  {
   "cell_type": "code",
   "execution_count": 32,
   "metadata": {},
   "outputs": [],
   "source": [
    "#NaN olarak kalan degerler duzeltilecek ve ardindan veriler olceklendirilecek"
   ]
  },
  {
   "cell_type": "code",
   "execution_count": null,
   "metadata": {},
   "outputs": [],
   "source": [
    "scaler = MinMaxScaler()\n",
    "scaled_data = scaler.fit_transform(df)\n",
    "\n",
    "# Ölçeklendirilmiş veriyi yeni bir DataFrame'e dönüştür\n",
    "scaled_df = pd.DataFrame(scaled_data, columns=df.columns)"
   ]
  },
  {
   "cell_type": "code",
   "execution_count": null,
   "metadata": {},
   "outputs": [],
   "source": []
  }
 ],
 "metadata": {
  "kernelspec": {
   "display_name": "mlenv",
   "language": "python",
   "name": "python3"
  },
  "language_info": {
   "codemirror_mode": {
    "name": "ipython",
    "version": 3
   },
   "file_extension": ".py",
   "mimetype": "text/x-python",
   "name": "python",
   "nbconvert_exporter": "python",
   "pygments_lexer": "ipython3",
   "version": "3.10.12"
  },
  "orig_nbformat": 4
 },
 "nbformat": 4,
 "nbformat_minor": 2
}
