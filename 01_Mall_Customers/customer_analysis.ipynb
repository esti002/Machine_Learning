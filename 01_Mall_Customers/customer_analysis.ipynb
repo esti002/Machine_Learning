{
 "cells": [
  {
   "cell_type": "code",
   "execution_count": 37,
   "metadata": {},
   "outputs": [],
   "source": [
    "#Importlari tanimlama\n",
    "import pandas as pd\n",
    "import numpy as np\n",
    "import matplotlib.pyplot as plt\n",
    "import seaborn as sns\n",
    "from sklearn.preprocessing import MinMaxScaler\n",
    "from sklearn.decomposition import PCA\n",
    "from sklearn.model_selection import train_test_split\n",
    "from sklearn.linear_model import LogisticRegression\n",
    "from sklearn.metrics import accuracy_score"
   ]
  },
  {
   "cell_type": "code",
   "execution_count": 38,
   "metadata": {},
   "outputs": [],
   "source": [
    "#Verisetini yukleme\n",
    "data = pd.read_csv('Mall_Customers.csv')\n",
    "df = pd.DataFrame(data)"
   ]
  },
  {
   "cell_type": "code",
   "execution_count": 39,
   "metadata": {},
   "outputs": [
    {
     "data": {
      "text/html": [
       "<div>\n",
       "<style scoped>\n",
       "    .dataframe tbody tr th:only-of-type {\n",
       "        vertical-align: middle;\n",
       "    }\n",
       "\n",
       "    .dataframe tbody tr th {\n",
       "        vertical-align: top;\n",
       "    }\n",
       "\n",
       "    .dataframe thead th {\n",
       "        text-align: right;\n",
       "    }\n",
       "</style>\n",
       "<table border=\"1\" class=\"dataframe\">\n",
       "  <thead>\n",
       "    <tr style=\"text-align: right;\">\n",
       "      <th></th>\n",
       "      <th>CustomerID</th>\n",
       "      <th>Gender</th>\n",
       "      <th>Age</th>\n",
       "      <th>Income</th>\n",
       "      <th>Spending_Score</th>\n",
       "    </tr>\n",
       "  </thead>\n",
       "  <tbody>\n",
       "    <tr>\n",
       "      <th>0</th>\n",
       "      <td>1</td>\n",
       "      <td>Male</td>\n",
       "      <td>19</td>\n",
       "      <td>15</td>\n",
       "      <td>39</td>\n",
       "    </tr>\n",
       "    <tr>\n",
       "      <th>1</th>\n",
       "      <td>2</td>\n",
       "      <td>Male</td>\n",
       "      <td>21</td>\n",
       "      <td>15</td>\n",
       "      <td>81</td>\n",
       "    </tr>\n",
       "    <tr>\n",
       "      <th>2</th>\n",
       "      <td>3</td>\n",
       "      <td>Female</td>\n",
       "      <td>20</td>\n",
       "      <td>16</td>\n",
       "      <td>6</td>\n",
       "    </tr>\n",
       "    <tr>\n",
       "      <th>3</th>\n",
       "      <td>4</td>\n",
       "      <td>Female</td>\n",
       "      <td>23</td>\n",
       "      <td>16</td>\n",
       "      <td>77</td>\n",
       "    </tr>\n",
       "    <tr>\n",
       "      <th>4</th>\n",
       "      <td>5</td>\n",
       "      <td>Female</td>\n",
       "      <td>31</td>\n",
       "      <td>17</td>\n",
       "      <td>40</td>\n",
       "    </tr>\n",
       "  </tbody>\n",
       "</table>\n",
       "</div>"
      ],
      "text/plain": [
       "   CustomerID  Gender  Age  Income  Spending_Score\n",
       "0           1    Male   19      15              39\n",
       "1           2    Male   21      15              81\n",
       "2           3  Female   20      16               6\n",
       "3           4  Female   23      16              77\n",
       "4           5  Female   31      17              40"
      ]
     },
     "execution_count": 39,
     "metadata": {},
     "output_type": "execute_result"
    }
   ],
   "source": [
    "#Verisetinin ilk satirlarini gosterme\n",
    "df.head()"
   ]
  },
  {
   "cell_type": "code",
   "execution_count": 40,
   "metadata": {},
   "outputs": [
    {
     "name": "stdout",
     "output_type": "stream",
     "text": [
      "<class 'pandas.core.frame.DataFrame'>\n",
      "RangeIndex: 200 entries, 0 to 199\n",
      "Data columns (total 5 columns):\n",
      " #   Column          Non-Null Count  Dtype \n",
      "---  ------          --------------  ----- \n",
      " 0   CustomerID      200 non-null    int64 \n",
      " 1   Gender          200 non-null    object\n",
      " 2   Age             200 non-null    int64 \n",
      " 3   Income          200 non-null    int64 \n",
      " 4   Spending_Score  200 non-null    int64 \n",
      "dtypes: int64(4), object(1)\n",
      "memory usage: 7.9+ KB\n"
     ]
    }
   ],
   "source": [
    "#Veriseti hakkinda daha fazla bilgi alma\n",
    "data.info()"
   ]
  },
  {
   "cell_type": "code",
   "execution_count": 41,
   "metadata": {},
   "outputs": [
    {
     "data": {
      "text/html": [
       "<div>\n",
       "<style scoped>\n",
       "    .dataframe tbody tr th:only-of-type {\n",
       "        vertical-align: middle;\n",
       "    }\n",
       "\n",
       "    .dataframe tbody tr th {\n",
       "        vertical-align: top;\n",
       "    }\n",
       "\n",
       "    .dataframe thead th {\n",
       "        text-align: right;\n",
       "    }\n",
       "</style>\n",
       "<table border=\"1\" class=\"dataframe\">\n",
       "  <thead>\n",
       "    <tr style=\"text-align: right;\">\n",
       "      <th></th>\n",
       "      <th>CustomerID</th>\n",
       "      <th>Age</th>\n",
       "      <th>Income</th>\n",
       "      <th>Spending_Score</th>\n",
       "    </tr>\n",
       "  </thead>\n",
       "  <tbody>\n",
       "    <tr>\n",
       "      <th>count</th>\n",
       "      <td>200.000000</td>\n",
       "      <td>200.000000</td>\n",
       "      <td>200.000000</td>\n",
       "      <td>200.000000</td>\n",
       "    </tr>\n",
       "    <tr>\n",
       "      <th>mean</th>\n",
       "      <td>100.500000</td>\n",
       "      <td>38.850000</td>\n",
       "      <td>60.560000</td>\n",
       "      <td>50.200000</td>\n",
       "    </tr>\n",
       "    <tr>\n",
       "      <th>std</th>\n",
       "      <td>57.879185</td>\n",
       "      <td>13.969007</td>\n",
       "      <td>26.264721</td>\n",
       "      <td>25.823522</td>\n",
       "    </tr>\n",
       "    <tr>\n",
       "      <th>min</th>\n",
       "      <td>1.000000</td>\n",
       "      <td>18.000000</td>\n",
       "      <td>15.000000</td>\n",
       "      <td>1.000000</td>\n",
       "    </tr>\n",
       "    <tr>\n",
       "      <th>25%</th>\n",
       "      <td>50.750000</td>\n",
       "      <td>28.750000</td>\n",
       "      <td>41.500000</td>\n",
       "      <td>34.750000</td>\n",
       "    </tr>\n",
       "    <tr>\n",
       "      <th>50%</th>\n",
       "      <td>100.500000</td>\n",
       "      <td>36.000000</td>\n",
       "      <td>61.500000</td>\n",
       "      <td>50.000000</td>\n",
       "    </tr>\n",
       "    <tr>\n",
       "      <th>75%</th>\n",
       "      <td>150.250000</td>\n",
       "      <td>49.000000</td>\n",
       "      <td>78.000000</td>\n",
       "      <td>73.000000</td>\n",
       "    </tr>\n",
       "    <tr>\n",
       "      <th>max</th>\n",
       "      <td>200.000000</td>\n",
       "      <td>70.000000</td>\n",
       "      <td>137.000000</td>\n",
       "      <td>99.000000</td>\n",
       "    </tr>\n",
       "  </tbody>\n",
       "</table>\n",
       "</div>"
      ],
      "text/plain": [
       "       CustomerID         Age      Income  Spending_Score\n",
       "count  200.000000  200.000000  200.000000      200.000000\n",
       "mean   100.500000   38.850000   60.560000       50.200000\n",
       "std     57.879185   13.969007   26.264721       25.823522\n",
       "min      1.000000   18.000000   15.000000        1.000000\n",
       "25%     50.750000   28.750000   41.500000       34.750000\n",
       "50%    100.500000   36.000000   61.500000       50.000000\n",
       "75%    150.250000   49.000000   78.000000       73.000000\n",
       "max    200.000000   70.000000  137.000000       99.000000"
      ]
     },
     "execution_count": 41,
     "metadata": {},
     "output_type": "execute_result"
    }
   ],
   "source": [
    "#Verisetinin istatistiksel ozeti\n",
    "data.describe()"
   ]
  },
  {
   "cell_type": "code",
   "execution_count": 42,
   "metadata": {},
   "outputs": [
    {
     "name": "stdout",
     "output_type": "stream",
     "text": [
      "<bound method DataFrame.sum of      CustomerID  Gender    Age  Income  Spending_Score\n",
      "0         False   False  False   False           False\n",
      "1         False   False  False   False           False\n",
      "2         False   False  False   False           False\n",
      "3         False   False  False   False           False\n",
      "4         False   False  False   False           False\n",
      "..          ...     ...    ...     ...             ...\n",
      "195       False   False  False   False           False\n",
      "196       False   False  False   False           False\n",
      "197       False   False  False   False           False\n",
      "198       False   False  False   False           False\n",
      "199       False   False  False   False           False\n",
      "\n",
      "[200 rows x 5 columns]>\n"
     ]
    }
   ],
   "source": [
    "#Eksik deger kontrolu\n",
    "print(df.isnull().sum)"
   ]
  },
  {
   "cell_type": "code",
   "execution_count": 43,
   "metadata": {},
   "outputs": [
    {
     "data": {
      "text/html": [
       "<div>\n",
       "<style scoped>\n",
       "    .dataframe tbody tr th:only-of-type {\n",
       "        vertical-align: middle;\n",
       "    }\n",
       "\n",
       "    .dataframe tbody tr th {\n",
       "        vertical-align: top;\n",
       "    }\n",
       "\n",
       "    .dataframe thead th {\n",
       "        text-align: right;\n",
       "    }\n",
       "</style>\n",
       "<table border=\"1\" class=\"dataframe\">\n",
       "  <thead>\n",
       "    <tr style=\"text-align: right;\">\n",
       "      <th></th>\n",
       "      <th>CustomerID</th>\n",
       "      <th>Gender</th>\n",
       "      <th>Age</th>\n",
       "      <th>Income</th>\n",
       "      <th>Spending_Score</th>\n",
       "    </tr>\n",
       "  </thead>\n",
       "  <tbody>\n",
       "    <tr>\n",
       "      <th>0</th>\n",
       "      <td>1</td>\n",
       "      <td>Male</td>\n",
       "      <td>19</td>\n",
       "      <td>15</td>\n",
       "      <td>39</td>\n",
       "    </tr>\n",
       "    <tr>\n",
       "      <th>1</th>\n",
       "      <td>2</td>\n",
       "      <td>Male</td>\n",
       "      <td>21</td>\n",
       "      <td>15</td>\n",
       "      <td>81</td>\n",
       "    </tr>\n",
       "    <tr>\n",
       "      <th>2</th>\n",
       "      <td>3</td>\n",
       "      <td>Female</td>\n",
       "      <td>20</td>\n",
       "      <td>16</td>\n",
       "      <td>6</td>\n",
       "    </tr>\n",
       "    <tr>\n",
       "      <th>3</th>\n",
       "      <td>4</td>\n",
       "      <td>Female</td>\n",
       "      <td>23</td>\n",
       "      <td>16</td>\n",
       "      <td>77</td>\n",
       "    </tr>\n",
       "    <tr>\n",
       "      <th>4</th>\n",
       "      <td>5</td>\n",
       "      <td>Female</td>\n",
       "      <td>31</td>\n",
       "      <td>17</td>\n",
       "      <td>40</td>\n",
       "    </tr>\n",
       "    <tr>\n",
       "      <th>...</th>\n",
       "      <td>...</td>\n",
       "      <td>...</td>\n",
       "      <td>...</td>\n",
       "      <td>...</td>\n",
       "      <td>...</td>\n",
       "    </tr>\n",
       "    <tr>\n",
       "      <th>195</th>\n",
       "      <td>196</td>\n",
       "      <td>Female</td>\n",
       "      <td>35</td>\n",
       "      <td>120</td>\n",
       "      <td>79</td>\n",
       "    </tr>\n",
       "    <tr>\n",
       "      <th>196</th>\n",
       "      <td>197</td>\n",
       "      <td>Female</td>\n",
       "      <td>45</td>\n",
       "      <td>126</td>\n",
       "      <td>28</td>\n",
       "    </tr>\n",
       "    <tr>\n",
       "      <th>197</th>\n",
       "      <td>198</td>\n",
       "      <td>Male</td>\n",
       "      <td>32</td>\n",
       "      <td>126</td>\n",
       "      <td>74</td>\n",
       "    </tr>\n",
       "    <tr>\n",
       "      <th>198</th>\n",
       "      <td>199</td>\n",
       "      <td>Male</td>\n",
       "      <td>32</td>\n",
       "      <td>137</td>\n",
       "      <td>18</td>\n",
       "    </tr>\n",
       "    <tr>\n",
       "      <th>199</th>\n",
       "      <td>200</td>\n",
       "      <td>Male</td>\n",
       "      <td>30</td>\n",
       "      <td>137</td>\n",
       "      <td>83</td>\n",
       "    </tr>\n",
       "  </tbody>\n",
       "</table>\n",
       "<p>200 rows × 5 columns</p>\n",
       "</div>"
      ],
      "text/plain": [
       "     CustomerID  Gender  Age  Income  Spending_Score\n",
       "0             1    Male   19      15              39\n",
       "1             2    Male   21      15              81\n",
       "2             3  Female   20      16               6\n",
       "3             4  Female   23      16              77\n",
       "4             5  Female   31      17              40\n",
       "..          ...     ...  ...     ...             ...\n",
       "195         196  Female   35     120              79\n",
       "196         197  Female   45     126              28\n",
       "197         198    Male   32     126              74\n",
       "198         199    Male   32     137              18\n",
       "199         200    Male   30     137              83\n",
       "\n",
       "[200 rows x 5 columns]"
      ]
     },
     "execution_count": 43,
     "metadata": {},
     "output_type": "execute_result"
    }
   ],
   "source": [
    "#Eksik degerleri doldurma-cikarma\n",
    "df = df.dropna() #Eksik veri cikarma\n",
    "df.fillna(0) #Eksik verilere '0' yaz"
   ]
  },
  {
   "cell_type": "code",
   "execution_count": 44,
   "metadata": {},
   "outputs": [
    {
     "data": {
      "image/png": "[encoded data removed]",
      "text/plain": [
       "<Figure size 640x480 with 1 Axes>"
      ]
     },
     "metadata": {},
     "output_type": "display_data"
    }
   ],
   "source": [
    "# 'Gender' verilerini gorsellestirme\n",
    "sns.countplot(x = 'Gender', data = df)\n",
    "plt.title('Cinsiyet')\n",
    "plt.show()"
   ]
  },
  {
   "cell_type": "code",
   "execution_count": 45,
   "metadata": {},
   "outputs": [
    {
     "data": {
      "image/png": "[encoded data removed]",
      "text/plain": [
       "<Figure size 640x480 with 1 Axes>"
      ]
     },
     "metadata": {},
     "output_type": "display_data"
    }
   ],
   "source": [
    "# 'Age' verilerini kutu grafigi ile gorsellestirme\n",
    "sns.boxplot(x = 'Age', data =  df)\n",
    "plt.title('Yas Dagilimi')\n",
    "plt.show()"
   ]
  },
  {
   "cell_type": "code",
   "execution_count": 46,
   "metadata": {},
   "outputs": [
    {
     "data": {
      "image/png": "[encoded data removed]",
      "text/plain": [
       "<Figure size 640x480 with 1 Axes>"
      ]
     },
     "metadata": {},
     "output_type": "display_data"
    }
   ],
   "source": [
    "# 'Income_(k$)' ve 'Spending_Score_(1-100)' arasindaki iliskiyi gorsellestirme\n",
    "sns.scatterplot(x = 'Spending_Score', y = 'Income',data = df)\n",
    "plt.title('Harcama Skoru - Kazanc Iliskisi')\n",
    "plt.show()"
   ]
  },
  {
   "cell_type": "code",
   "execution_count": 47,
   "metadata": {},
   "outputs": [],
   "source": [
    "# Veriyi bagimsiz ve hedef degisken oalrak ikiye bolme\n",
    "X = df.drop('Spending_Score',axis = 1)\n",
    "X = df.drop('CustomerID',axis = 1)\n",
    "Y = df['Spending_Score']"
   ]
  },
  {
   "cell_type": "code",
   "execution_count": 48,
   "metadata": {},
   "outputs": [
    {
     "name": "stdout",
     "output_type": "stream",
     "text": [
      "     Gender       Age  Income  Spending_Score\n",
      "0      Male  0.019231      15              39\n",
      "1      Male  0.057692      15              81\n",
      "2    Female  0.038462      16               6\n",
      "3    Female  0.096154      16              77\n",
      "4    Female  0.250000      17              40\n",
      "..      ...       ...     ...             ...\n",
      "195  Female  0.326923     120              79\n",
      "196  Female  0.519231     126              28\n",
      "197    Male  0.269231     126              74\n",
      "198    Male  0.269231     137              18\n",
      "199    Male  0.230769     137              83\n",
      "\n",
      "[200 rows x 4 columns]\n"
     ]
    }
   ],
   "source": [
    "# Veriyi Olceklendirme(Yas verisi)\n",
    "scaler = MinMaxScaler()\n",
    "X_scaled = X.copy()\n",
    "X_scaled['Age'] = scaler.fit_transform(X['Age'].values.reshape(-1,1))\n",
    "print(X_scaled)"
   ]
  },
  {
   "cell_type": "code",
   "execution_count": 49,
   "metadata": {},
   "outputs": [
    {
     "name": "stdout",
     "output_type": "stream",
     "text": [
      "     Gender       Age  Income  Spending_Score\n",
      "0         1  0.019231      15              39\n",
      "1         1  0.057692      15              81\n",
      "2         0  0.038462      16               6\n",
      "3         0  0.096154      16              77\n",
      "4         0  0.250000      17              40\n",
      "..      ...       ...     ...             ...\n",
      "195       0  0.326923     120              79\n",
      "196       0  0.519231     126              28\n",
      "197       1  0.269231     126              74\n",
      "198       1  0.269231     137              18\n",
      "199       1  0.230769     137              83\n",
      "\n",
      "[200 rows x 4 columns]\n"
     ]
    }
   ],
   "source": [
    "# Cinsiyet verisini sayisal degerlere donusturme yapma (kadin = 0, erkek = 1)\n",
    "gender_mapping = {'Female' : 0, 'Male' : 1}\n",
    "X_scaled['Gender'] = X_scaled['Gender'].map(gender_mapping)\n",
    "print(X_scaled)"
   ]
  },
  {
   "cell_type": "code",
   "execution_count": 50,
   "metadata": {},
   "outputs": [
    {
     "name": "stdout",
     "output_type": "stream",
     "text": [
      "[[-4.69026863e+01  1.10235958e+00]\n",
      " [-3.59213499e+01  4.16409408e+01]\n",
      " [-5.45664614e+01 -3.10096318e+01]\n",
      " [-3.60027664e+01  3.75198984e+01]\n",
      " [-4.47117717e+01  1.54526474e+00]\n",
      " [-3.52989957e+01  3.62932919e+01]\n",
      " [-5.26363178e+01 -3.15334962e+01]\n",
      " [-2.96274981e+01  5.34054986e+01]\n",
      " [-5.24552883e+01 -3.46937726e+01]\n",
      " [-3.44145653e+01  3.19090371e+01]\n",
      " [-4.95792707e+01 -2.40766804e+01]\n",
      " [-2.73552047e+01  5.79693207e+01]\n",
      " [-4.83531734e+01 -2.33709966e+01]\n",
      " [-3.21419326e+01  3.64739879e+01]\n",
      " [-4.88749533e+01 -2.53014686e+01]\n",
      " [-3.16182254e+01  3.84031537e+01]\n",
      " [-4.21583009e+01 -4.32687035e+00]\n",
      " [-3.40519713e+01  2.55941223e+01]\n",
      " [-4.17962159e+01 -1.06434782e+01]\n",
      " [-2.37558133e+01  5.59582656e+01]\n",
      " [-3.92619145e+01 -5.11263037e+00]\n",
      " [-2.93261970e+01  3.15658741e+01]\n",
      " [-4.61414942e+01 -3.43296269e+01]\n",
      " [-2.83610969e+01  3.13040359e+01]\n",
      " [-4.08928539e+01 -2.64276486e+01]\n",
      " [-2.31122681e+01  3.92066412e+01]\n",
      " [-3.61863810e+01 -9.05335289e+00]\n",
      " [-2.86030683e+01  1.89369116e+01]\n",
      " [-3.54825349e+01 -1.02797086e+01]\n",
      " [-2.08403822e+01  4.37729661e+01]\n",
      " [-4.15764067e+01 -3.66043959e+01]\n",
      " [-2.35355894e+01  2.99987274e+01]\n",
      " [-3.86806352e+01 -3.73883428e+01]\n",
      " [-1.56713819e+01  4.75520942e+01]\n",
      " [-3.60666938e+01 -2.77346448e+01]\n",
      " [-1.85482595e+01  3.69359999e+01]\n",
      " [-3.43169648e+01 -2.51000460e+01]\n",
      " [-1.96749064e+01  2.89523153e+01]\n",
      " [-2.90680605e+01 -1.71971899e+01]\n",
      " [-1.62561557e+01  3.00989711e+01]\n",
      " [-2.57502424e+01 -8.77360450e+00]\n",
      " [-1.08454292e+01  4.62444082e+01]\n",
      " [-2.45225006e+01 -8.07016738e+00]\n",
      " [-1.79863948e+01  1.60624552e+01]\n",
      " [-2.66149567e+01 -1.57905143e+01]\n",
      " [-1.69404177e+01  1.99237234e+01]\n",
      " [-1.85903075e+01  1.00085581e+01]\n",
      " [-2.06815643e+01  2.28834191e+00]\n",
      " [-2.19889084e+01 -2.53782000e+00]\n",
      " [-2.19889461e+01 -2.53794540e+00]\n",
      " [-1.74442462e+01  6.59007506e+00]\n",
      " [-1.53515074e+01  1.43113625e+01]\n",
      " [-1.59557711e+01  8.26015636e+00]\n",
      " [-1.43867844e+01  1.40482703e+01]\n",
      " [-1.83092809e+01 -4.27900690e-01]\n",
      " [-1.93543226e+01 -4.28991596e+00]\n",
      " [-1.60367801e+01  4.13661116e+00]\n",
      " [-1.70822177e+01  2.73279131e-01]\n",
      " [-1.38444400e+01  4.58039943e+00]\n",
      " [-1.51514898e+01 -2.48641518e-01]\n",
      " [-1.25371973e+01  9.40236554e+00]\n",
      " [-1.27976972e+01  8.44035607e+00]\n",
      " [-1.26185196e+01  5.28163668e+00]\n",
      " [-1.07880455e+01  1.20389029e+01]\n",
      " [-1.19139455e+01  4.05384406e+00]\n",
      " [-9.82140685e+00  1.17783241e+01]\n",
      " [-1.21757766e+01  3.09126500e+00]\n",
      " [-1.26991705e+01  1.15928283e+00]\n",
      " [-9.82142570e+00  1.17782614e+01]\n",
      " [-1.29599531e+01  1.96332830e-01]\n",
      " [-9.90301911e+00  7.65277240e+00]\n",
      " [-1.33023291e+01 -4.89210615e+00]\n",
      " [-1.05071320e+01  1.60206786e+00]\n",
      " [-8.67690299e+00  8.35851896e+00]\n",
      " [-7.16843617e+00 -1.37550600e+00]\n",
      " [-5.33758505e+00  5.38301429e+00]\n",
      " [-5.60015138e+00  4.41798982e+00]\n",
      " [-6.90661671e+00 -4.09107348e-01]\n",
      " [-5.86119794e+00  3.45416198e+00]\n",
      " [-8.47630097e+00 -6.19954129e+00]\n",
      " [-6.12255332e+00  2.48544861e+00]\n",
      " [-5.07634998e+00  6.34746916e+00]\n",
      " [-8.73735472e+00 -7.16725142e+00]\n",
      " [-7.95332184e+00 -4.26893858e+00]\n",
      " [-4.55385379e+00  8.28032388e+00]\n",
      " [-7.42969010e+00 -2.34002357e+00]\n",
      " [-1.39739392e+00  8.45901346e+00]\n",
      " [-2.18115569e+00  5.56546075e+00]\n",
      " [ 9.11377123e-02  1.01292829e+01]\n",
      " [-3.56962196e+00 -3.38462257e+00]\n",
      " [-2.51596509e-01  5.03965253e+00]\n",
      " [-3.91036512e+00 -8.47148872e+00]\n",
      " [-8.54027173e-01 -1.01317334e+00]\n",
      " [-3.20777483e+00 -9.69816324e+00]\n",
      " [-2.68470144e+00 -7.76724702e+00]\n",
      " [-6.91908684e-02  1.88395342e+00]\n",
      " [-1.37767776e+00 -2.94215106e+00]\n",
      " [-5.92916867e-01 -4.52751035e-02]\n",
      " [-1.71904302e+00 -8.03108639e+00]\n",
      " [ 1.11713846e-01 -1.27287961e+00]\n",
      " [-1.01556671e+00 -9.25481388e+00]\n",
      " [ 8.14172174e-01 -2.49999305e+00]\n",
      " [ 3.69065389e+00  8.11478441e+00]\n",
      " [ 2.64558165e+00  4.25652602e+00]\n",
      " [ 2.90660935e+00  5.22029116e+00]\n",
      " [-7.54067719e-01 -8.28948118e+00]\n",
      " [ 2.30198745e+00 -8.32106343e-01]\n",
      " [ 1.25711538e+00 -4.69355729e+00]\n",
      " [ 4.72467590e-01 -7.59005703e+00]\n",
      " [ 1.77981174e+00 -2.76389513e+00]\n",
      " [ 2.82567575e+00  1.09699678e+00]\n",
      " [ 3.34871863e+00  3.03166988e+00]\n",
      " [ 1.17603816e+00 -8.81347101e+00]\n",
      " [ 2.22298836e+00 -4.95282465e+00]\n",
      " [ 3.71039610e+00 -3.28243511e+00]\n",
      " [ 4.23329983e+00 -1.35208321e+00]\n",
      " [ 2.40224133e+00 -8.11129322e+00]\n",
      " [ 6.58588588e+00  7.33290141e+00]\n",
      " [ 4.33289391e+00 -8.63346468e+00]\n",
      " [ 7.99337081e+00  4.87950022e+00]\n",
      " [ 7.73308997e+00  3.91436089e+00]\n",
      " [ 3.54875511e+00 -1.15282714e+01]\n",
      " [ 1.01854470e+01  5.32241065e+00]\n",
      " [ 1.88144352e+01  3.71729401e+01]\n",
      " [ 3.56860323e+00 -2.29289970e+01]\n",
      " [ 1.61185943e+01  2.34004517e+01]\n",
      " [ 6.10295397e+00 -1.74018434e+01]\n",
      " [ 2.17906879e+01  4.05107827e+01]\n",
      " [-1.72418591e-01 -4.05678219e+01]\n",
      " [ 1.65614998e+01  2.12067621e+01]\n",
      " [-6.95114951e-01 -4.24974840e+01]\n",
      " [ 1.65614809e+01  2.12066994e+01]\n",
      " [ 6.80629832e+00 -1.86260098e+01]\n",
      " [ 1.64802529e+01  1.70862840e+01]\n",
      " [ 1.89975235e-01 -4.68795442e+01]\n",
      " [ 2.18903457e+01  3.32334716e+01]\n",
      " [ 7.11698512e-01 -4.49492602e+01]\n",
      " [ 1.79691167e+01  1.87537998e+01]\n",
      " [ 2.46251371e+00 -4.23149069e+01]\n",
      " [ 1.86720652e+01  1.75283166e+01]\n",
      " [ 2.11895722e+00 -4.74034139e+01]\n",
      " [ 2.51287688e+01  3.75350219e+01]\n",
      " [ 1.22358622e+01 -1.38808019e+01]\n",
      " [ 2.45244674e+01  3.14836903e+01]\n",
      " [ 5.88096271e+00 -4.11692543e+01]\n",
      " [ 2.81051157e+01  4.08731780e+01]\n",
      " [ 1.21556001e+01 -1.80057213e+01]\n",
      " [ 2.20906838e+01  1.86745335e+01]\n",
      " [ 9.45987225e+00 -3.17778334e+01]\n",
      " [ 2.72399868e+01  3.38548888e+01]\n",
      " [ 8.15314300e+00 -3.66058084e+01]\n",
      " [ 2.67169699e+01  3.19241607e+01]\n",
      " [ 8.93676115e+00 -3.37088751e+01]\n",
      " [ 2.35787065e+01  2.03431099e+01]\n",
      " [ 7.89085944e+00 -3.75698924e+01]\n",
      " [ 2.69779106e+01  3.28914946e+01]\n",
      " [ 3.96987548e+00 -5.20487490e+01]\n",
      " [ 2.41017798e+01  2.22740262e+01]\n",
      " [ 3.96993204e+00 -5.20485609e+01]\n",
      " [ 2.27944734e+01  1.74479897e+01]\n",
      " [ 1.38236674e+01 -1.94929799e+01]\n",
      " [ 2.63743183e+01  2.68386634e+01]\n",
      " [ 7.91169950e+00 -4.89711770e+01]\n",
      " [ 3.09193199e+01  3.59676871e+01]\n",
      " [ 1.72626549e+01 -2.97496153e+01]\n",
      " [ 3.00737751e+01  1.75477944e+01]\n",
      " [ 1.66592511e+01 -3.58018194e+01]\n",
      " [ 3.62682706e+01  3.65906666e+01]\n",
      " [ 1.94540596e+01 -2.93050799e+01]\n",
      " [ 2.88674883e+01  5.44125957e+00]\n",
      " [ 1.57942730e+01 -4.28196070e+01]\n",
      " [ 3.20050991e+01  1.70239980e+01]\n",
      " [ 1.50099645e+01 -4.57149781e+01]\n",
      " [ 3.64497902e+01  3.34320205e+01]\n",
      " [ 1.67585131e+01 -4.30804472e+01]\n",
      " [ 3.58456019e+01  2.73810651e+01]\n",
      " [ 1.72820694e+01 -4.11517830e+01]\n",
      " [ 3.14015634e+01  1.09713549e+01]\n",
      " [ 2.18466552e+01 -4.34243628e+01]\n",
      " [ 4.17181656e+01  2.99328969e+01]\n",
      " [ 3.04134789e+01 -2.70937255e+01]\n",
      " [ 4.45324828e+01  2.50277822e+01]\n",
      " [ 2.69344274e+01 -4.37656501e+01]\n",
      " [ 4.60206751e+01  2.66969230e+01]\n",
      " [ 3.41740589e+01 -2.08604491e+01]\n",
      " [ 4.93397679e+01  3.51208898e+01]\n",
      " [ 3.21823208e+01 -3.58622976e+01]\n",
      " [ 4.36878546e+01  6.60707964e+00]\n",
      " [ 3.22827632e+01 -4.31408575e+01]\n",
      " [ 5.00622252e+01  2.24935524e+01]\n",
      " [ 3.38516629e+01 -3.73491748e+01]\n",
      " [ 4.58789199e+01  7.05048642e+00]\n",
      " [ 3.95826411e+01 -5.44432152e+01]\n",
      " [ 6.12830870e+01  2.56700513e+01]\n",
      " [ 4.84298128e+01 -4.85512941e+01]\n",
      " [ 6.49021003e+01  1.22575182e+01]\n",
      " [ 5.73586651e+01 -3.85374527e+01]\n",
      " [ 6.93868763e+01  5.86152399e+00]\n",
      " [ 6.53623891e+01 -5.10661662e+01]\n",
      " [ 8.23574106e+01  1.16724337e+01]]\n"
     ]
    }
   ],
   "source": [
    "# Boyut azaltma(modelin boyutunu ve egitim suresini azaltmak icin modelin boyutu arttirilir)\n",
    "pca = PCA(n_components=2)\n",
    "X_reduced = pca.fit_transform(X_scaled)\n",
    "print(X_reduced)"
   ]
  },
  {
   "cell_type": "code",
   "execution_count": 51,
   "metadata": {},
   "outputs": [],
   "source": [
    "# Veriyi egitim ve test kumelerine bolme\n",
    "X_train, X_test, Y_train, Y_test = train_test_split(X_scaled, Y, test_size=0.4, random_state = 1)"
   ]
  },
  {
   "cell_type": "code",
   "execution_count": 52,
   "metadata": {},
   "outputs": [
    {
     "name": "stdout",
     "output_type": "stream",
     "text": [
      "0.0375\n"
     ]
    },
    {
     "name": "stderr",
     "output_type": "stream",
     "text": [
      "/home/esti002/miniconda3/envs/mlenv/lib/python3.11/site-packages/sklearn/linear_model/_logistic.py:460: ConvergenceWarning: lbfgs failed to converge (status=1):\n",
      "STOP: TOTAL NO. of ITERATIONS REACHED LIMIT.\n",
      "\n",
      "Increase the number of iterations (max_iter) or scale the data as shown in:\n",
      "    https://scikit-learn.org/stable/modules/preprocessing.html\n",
      "Please also refer to the documentation for alternative solver options:\n",
      "    https://scikit-learn.org/stable/modules/linear_model.html#logistic-regression\n",
      "  n_iter_i = _check_optimize_result(\n"
     ]
    }
   ],
   "source": [
    "# Lojistik regresyon modeli olusturma\n",
    "model = LogisticRegression()\n",
    "\n",
    "# Modelin egitilmesi\n",
    "model.fit(X_train,Y_train)\n",
    "\n",
    "# Modelin test edilmesi\n",
    "Y_pred = model.predict(X_test)\n",
    "\n",
    "# Kesinlik skorunu hesaplama\n",
    "accuracy = accuracy_score(Y_test, Y_pred)\n",
    "\n",
    "print(accuracy)"
   ]
  },
  {
   "cell_type": "code",
   "execution_count": 53,
   "metadata": {},
   "outputs": [
    {
     "name": "stdout",
     "output_type": "stream",
     "text": [
      "1.0\n"
     ]
    }
   ],
   "source": [
    "def linear_train(x_train, x_test, y_train, y_test):\n",
    "    from sklearn.linear_model import LinearRegression\n",
    "\n",
    "    model = LinearRegression()\n",
    "\n",
    "    model.fit(x_train, y_train)\n",
    "    score = model.score(x_test, y_test)\n",
    "\n",
    "    \n",
    "    return score\n",
    "\n",
    "score = linear_train(X_train, X_test, Y_train, Y_test)\n",
    "print(score)"
   ]
  },
  {
   "cell_type": "code",
   "execution_count": null,
   "metadata": {},
   "outputs": [],
   "source": []
  },
  {
   "cell_type": "code",
   "execution_count": 54,
   "metadata": {},
   "outputs": [
    {
     "ename": "NameError",
     "evalue": "name 'asd' is not defined",
     "output_type": "error",
     "traceback": [
      "\u001b[0;31m---------------------------------------------------------------------------\u001b[0m",
      "\u001b[0;31mNameError\u001b[0m                                 Traceback (most recent call last)",
      "\u001b[1;32m/home/esti002/Codes/Machine_Learning/01_Mall_Customers/customer_analysis.ipynb Cell 19\u001b[0m line \u001b[0;36m1\n\u001b[0;32m----> <a href='vscode-notebook-cell:/home/esti002/Codes/Machine_Learning/01_Mall_Customers/customer_analysis.ipynb#X33sZmlsZQ%3D%3D?line=0'>1</a>\u001b[0m asd\n",
      "\u001b[0;31mNameError\u001b[0m: name 'asd' is not defined"
     ]
    }
   ],
   "source": [
    "asd"
   ]
  },
  {
   "cell_type": "code",
   "execution_count": null,
   "metadata": {},
   "outputs": [],
   "source": [
    "def ridge_and_lasso_train(x_train, x_test, y_train, y_test):\n",
    "    from sklearn.linear_model import RidgeClassifier, Lasso\n",
    "\n",
    "    ridge_model = RidgeClassifier(alpha=1.0)\n",
    "    ridge_model.fit(x_train, y_train)\n",
    "\n",
    "    lasso_model = Lasso(alpha=1.0)\n",
    "    lasso_model.fit(x_train, y_train)\n",
    "\n",
    "    ridge_pred = ridge_model.predict(x_test)\n",
    "    lasso_pred = lasso_model.predict(x_test)\n",
    "\n",
    "    from sklearn.metrics import accuracy_score\n",
    "\n",
    "    ridge_accuracy = accuracy_score(y_test, ridge_pred)\n",
    "    lasso_accuracy = accuracy_score(y_test, lasso_pred)\n",
    "\n",
    "    return ridge_accuracy, lasso_accuracy"
   ]
  },
  {
   "cell_type": "code",
   "execution_count": null,
   "metadata": {},
   "outputs": [],
   "source": [
    "def XGBoost_train(x_train, x_test, y_train, y_test):\n",
    "    import xgboost as xgb\n",
    "    from sklearn.metrics import accuracy_score\n",
    "\n",
    "    # XGBoost sınıflandırma modelini eğitme\n",
    "    xgb_model = xgb.XGBClassifier(objective='binary:logistic', n_estimators=100)\n",
    "    xgb_model.fit(x_train, y_train)\n",
    "\n",
    "    # Modeli test etme\n",
    "    xgb_pred = xgb_model.predict(x_test)\n",
    "\n",
    "    # Doğruluk oranını hesaplama\n",
    "    accuracy = accuracy_score(y_test, xgb_pred)\n",
    "    return accuracy"
   ]
  },
  {
   "cell_type": "code",
   "execution_count": null,
   "metadata": {},
   "outputs": [],
   "source": [
    "def gradient_boosting_train(x_train, x_test, y_train, y_test):\n",
    "    from sklearn.ensemble import GradientBoostingClassifier\n",
    "\n",
    "    # Gradient Boosting modelini eğitme\n",
    "    gb_model = GradientBoostingClassifier(n_estimators=100)\n",
    "    gb_model.fit(x_train, y_train)\n",
    "\n",
    "    # Modeli test etme\n",
    "    y_pred = gb_model.predict(x_test)\n",
    "\n",
    "    # Doğruluk (accuracy) hesaplama\n",
    "    accuracy = accuracy_score(y_test, y_pred)\n",
    "    return accuracy"
   ]
  },
  {
   "cell_type": "code",
   "execution_count": null,
   "metadata": {},
   "outputs": [],
   "source": [
    "def MLP_train(x_train, x_test, y_train, y_test):\n",
    "    from sklearn.neural_network import MLPClassifier\n",
    "\n",
    "    # MLP modelini eğitme\n",
    "    mlp_model = MLPClassifier(hidden_layer_sizes=(100, 50), max_iter=1000)\n",
    "    mlp_model.fit(x_train, y_train)\n",
    "\n",
    "    # Modeli test etme\n",
    "    y_pred = mlp_model.predict(x_test)\n",
    "\n",
    "    # Doğruluk (accuracy) hesaplama\n",
    "    accuracy = accuracy_score(y_test, y_pred)\n",
    "    return accuracy"
   ]
  },
  {
   "cell_type": "code",
   "execution_count": null,
   "metadata": {},
   "outputs": [],
   "source": [
    "linear = linear_train(X_train, X_test, Y_train, Y_test)\n",
    "#ridge_and_lasso = ridge_and_lasso_train(X_train, X_test, Y_train, Y_test)\n",
    "#XGBoost = XGBoost_train(X_train, X_test, Y_train, Y_test)\n",
    "gradient_boosting = gradient_boosting_train(X_train, X_test, Y_train, Y_test)"
   ]
  },
  {
   "cell_type": "code",
   "execution_count": null,
   "metadata": {},
   "outputs": [
    {
     "name": "stdout",
     "output_type": "stream",
     "text": [
      "linear:  1.0\n",
      "gradient_boosting:  0.475\n"
     ]
    }
   ],
   "source": [
    "print(\"linear: \", linear)\n",
    "#print(\"ridge: \", str(ridge_and_lasso[0])) \n",
    "#print(\"lasso: \", str(ridge_and_lasso[1]))\n",
    "#print(\"XGBoost: \", XGBoost)\n",
    "print(\"gradient_boosting: \", gradient_boosting)"
   ]
  },
  {
   "cell_type": "code",
   "execution_count": null,
   "metadata": {},
   "outputs": [],
   "source": []
  }
 ],
 "metadata": {
  "kernelspec": {
   "display_name": "Python 3 (ipykernel)",
   "language": "python",
   "name": "python3"
  },
  "language_info": {
   "codemirror_mode": {
    "name": "ipython",
    "version": 3
   },
   "file_extension": ".py",
   "mimetype": "text/x-python",
   "name": "python",
   "nbconvert_exporter": "python",
   "pygments_lexer": "ipython3",
   "version": "3.11.4"
  }
 },
 "nbformat": 4,
 "nbformat_minor": 2
}
